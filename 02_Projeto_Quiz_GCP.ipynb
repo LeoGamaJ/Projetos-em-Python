{
  "nbformat": 4,
  "nbformat_minor": 0,
  "metadata": {
    "colab": {
      "name": "02 - Projeto Quiz - GCP.ipynb",
      "provenance": [],
      "collapsed_sections": [],
      "authorship_tag": "ABX9TyOg35vvzkvF7xr2k+y8H3w2",
      "include_colab_link": true
    },
    "kernelspec": {
      "name": "python3",
      "display_name": "Python 3"
    },
    "language_info": {
      "name": "python"
    }
  },
  "cells": [
    {
      "cell_type": "markdown",
      "metadata": {
        "id": "view-in-github",
        "colab_type": "text"
      },
      "source": [
        "<a href=\"https://colab.research.google.com/github/LeoGamaJ/Projetos-em-Pytrhon/blob/main/02_Projeto_Quiz_GCP.ipynb\" target=\"_parent\"><img src=\"https://colab.research.google.com/assets/colab-badge.svg\" alt=\"Open In Colab\"/></a>"
      ]
    },
    {
      "cell_type": "code",
      "source": [
        "# Com dicionários\n",
        "\n",
        "simulado_01 = {\n",
        "    \"Question 01\": {\n",
        "        \"Perg\": \"Instance templates are used to create a group of identical VMs. The instance templates include: \" ,\n",
        "        \"Resp\": {\"A\": \"Machine type, boot disk image or container image, zone, and labels\", \"B\": \"Cloud Storage bucket definitions\", \"C\": \"A load balancer description \", \"D\": \"App Engine configuration file\"},\n",
        "        \"Resp_certa\": \"A\"\n",
        "    }\n",
        "}\n",
        "\n",
        "gabarito = 0\n",
        "\n",
        "for pk, pv in simulado_01.items():\n",
        "  print(f'{pk}: {pv[\"Perg\"]}')\n",
        "\n",
        "  print(\"Respostas: \")\n",
        "  for rk, rv in pv[\"Resp\"].items():\n",
        "    print(f\"[{rk}]: {rv}\")\n",
        "\n",
        "  Resp_user = input(\"Sua Respostas: \")\n",
        "  \n",
        "  if Resp_user == pv[\"Resp_certa\"]:\n",
        "    print(\"Parabéns!!! Você ACERTOU!!!\")\n",
        "    gabarito += 1\n",
        "  else:\n",
        "    print(\"Você ERROU!\")\n",
        "    \n",
        "  print()\n",
        "\n",
        "\n",
        "qtd_perg = len(simulado_01)\n",
        "porcent_acerto = gabarito / qtd_perg * 100\n",
        "\n",
        "print(f\"Você acertou {gabarito} respostas.\")\n",
        "print(f\"Sua porcentagem de êxito foi de {porcent_acerto} % .\")\n",
        "  "
      ],
      "metadata": {
        "colab": {
          "base_uri": "https://localhost:8080/"
        },
        "id": "0sl2Zv7U4koX",
        "outputId": "12a72a01-af2c-4892-b536-6ade4963a0de"
      },
      "execution_count": null,
      "outputs": [
        {
          "output_type": "stream",
          "name": "stdout",
          "text": [
            "Question 01: Instance templates are used to create a group of identical VMs. The instance templates include: \n",
            "Respostas: \n",
            "[A]: Machine type, boot disk image or container image, zone, and labels\n",
            "[B]: Cloud Storage bucket definitions\n",
            "[C]: A load balancer description \n",
            "[D]: App Engine configuration file\n",
            "Sua Respostas: A\n",
            "Parabéns!!! Você ACERTOU!!!\n",
            "\n",
            "Você acertou 1 respostas.\n",
            "Sua porcentagem de êxito foi de 100.0% .\n"
          ]
        }
      ]
    },
    {
      "cell_type": "code",
      "source": [
        "# Modelo do dict para inserir perguntas\n",
        "\n",
        "simulado_0 = {\n",
        "    \"Question 0\": {\n",
        "        \"Perg\": \"\" ,\n",
        "        \"resp\": {\"A\": \"\", \"B\": \"\", \"C\": \"\", \"D\": \"\"},\n",
        "        \"resp_certa\": \"\"\n",
        "    }\n",
        "}"
      ],
      "metadata": {
        "id": "gcYUyU_GAmXD"
      },
      "execution_count": null,
      "outputs": []
    }
  ]
}