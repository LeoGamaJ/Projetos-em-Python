{
  "nbformat": 4,
  "nbformat_minor": 0,
  "metadata": {
    "colab": {
      "name": "Gerador de Certificado_1.0.ipynb",
      "provenance": [],
      "authorship_tag": "ABX9TyNCaXms++F89hDnExx8waSk",
      "include_colab_link": true
    },
    "kernelspec": {
      "name": "python3",
      "display_name": "Python 3"
    },
    "language_info": {
      "name": "python"
    }
  },
  "cells": [
    {
      "cell_type": "markdown",
      "metadata": {
        "id": "view-in-github",
        "colab_type": "text"
      },
      "source": [
        "<a href=\"https://colab.research.google.com/github/LeoGamaJ/Projetos-em-Python/blob/main/Gerador_de_Certificado_1_0.ipynb\" target=\"_parent\"><img src=\"https://colab.research.google.com/assets/colab-badge.svg\" alt=\"Open In Colab\"/></a>"
      ]
    },
    {
      "cell_type": "code",
      "execution_count": null,
      "metadata": {
        "colab": {
          "base_uri": "https://localhost:8080/"
        },
        "id": "HhwVNLyVnDKn",
        "outputId": "07579cce-a718-4156-adc5-37537c20492f"
      },
      "outputs": [
        {
          "output_type": "stream",
          "name": "stdout",
          "text": [
            "Looking in indexes: https://pypi.org/simple, https://us-python.pkg.dev/colab-wheels/public/simple/\n",
            "Collecting python-docx\n",
            "  Downloading python-docx-0.8.11.tar.gz (5.6 MB)\n",
            "\u001b[K     |████████████████████████████████| 5.6 MB 5.4 MB/s \n",
            "\u001b[?25hRequirement already satisfied: lxml>=2.3.2 in /usr/local/lib/python3.7/dist-packages (from python-docx) (4.9.1)\n",
            "Building wheels for collected packages: python-docx\n",
            "  Building wheel for python-docx (setup.py) ... \u001b[?25l\u001b[?25hdone\n",
            "  Created wheel for python-docx: filename=python_docx-0.8.11-py3-none-any.whl size=184507 sha256=b8f0e8176e0185db6cdb94256b027c3cabe9ac0e91102919c56acb05cc5d7abd\n",
            "  Stored in directory: /root/.cache/pip/wheels/f6/6f/b9/d798122a8b55b74ad30b5f52b01482169b445fbb84a11797a6\n",
            "Successfully built python-docx\n",
            "Installing collected packages: python-docx\n",
            "Successfully installed python-docx-0.8.11\n"
          ]
        }
      ],
      "source": [
        "!pip install python-docx\n",
        "\n",
        "#!pip install pandas\n",
        "#!pip install openpyxl\n",
        "#!pip install numpy"
      ]
    },
    {
      "cell_type": "code",
      "source": [
        "from docx import Document\n",
        "from datetime import datetime\n",
        "import pandas as pd\n",
        "import openpyxl \n",
        "import numpy as np"
      ],
      "metadata": {
        "id": "iW7wZNeUnN0z"
      },
      "execution_count": null,
      "outputs": []
    },
    {
      "cell_type": "code",
      "source": [
        "tabela = pd.read_excel(\"Informações.xlsx\")\n",
        "\n",
        "for linha in tabela.index:\n",
        "\n",
        "  certificado = Document(\"Certificado.docx\")\n",
        "\n",
        "  nome = tabela.loc[linha, \"Nome\"]\n",
        "  item1 = tabela.loc[linha, \"Item1\"]\n",
        "  item2 = tabela.loc[linha, \"Item2\"]\n",
        "  item3 = tabela.loc[linha, \"Item3\"]\n",
        "  \n",
        "  referencias = {\n",
        "      \"XXXX\": nome,\n",
        "      \"YYYY\": item1,\n",
        "      \"ZZZZ\": item2,\n",
        "      \"WWWWW\": item3,\n",
        "      \"DD\": str(datetime.now().day),\n",
        "      \"MM\": str(datetime.now().month),\n",
        "      \"AAAA\": str(datetime.now().year),\n",
        "  }\n",
        "\n",
        "\n",
        "  for paragrafo in certificado.paragraphs: \n",
        "    for codigo in referencias:\n",
        "      valor = referencias[codigo]\n",
        "      paragrafo.text = paragrafo.text.replace(codigo, valor)\n",
        "\n",
        "  certificado.save(f\"Certificado - {nome}.docx\")"
      ],
      "metadata": {
        "id": "l-IuB3Jwn8sL"
      },
      "execution_count": null,
      "outputs": []
    }
  ]
}