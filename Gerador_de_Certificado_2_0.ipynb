{
  "nbformat": 4,
  "nbformat_minor": 0,
  "metadata": {
    "colab": {
      "name": "Gerador de Certificado_2.0.ipynb",
      "provenance": [],
      "authorship_tag": "ABX9TyPx+jKoORoPfCJnwmdpQRWd",
      "include_colab_link": true
    },
    "kernelspec": {
      "name": "python3",
      "display_name": "Python 3"
    },
    "language_info": {
      "name": "python"
    }
  },
  "cells": [
    {
      "cell_type": "markdown",
      "metadata": {
        "id": "view-in-github",
        "colab_type": "text"
      },
      "source": [
        "<a href=\"https://colab.research.google.com/github/LeoGamaJ/Projetos-em-Python/blob/main/Gerador_de_Certificado_2_0.ipynb\" target=\"_parent\"><img src=\"https://colab.research.google.com/assets/colab-badge.svg\" alt=\"Open In Colab\"/></a>"
      ]
    },
    {
      "cell_type": "code",
      "execution_count": null,
      "metadata": {
        "colab": {
          "base_uri": "https://localhost:8080/"
        },
        "id": "HhwVNLyVnDKn",
        "outputId": "6d6568a3-66c4-4802-d749-79b617d4f449"
      },
      "outputs": [
        {
          "output_type": "stream",
          "name": "stdout",
          "text": [
            "Looking in indexes: https://pypi.org/simple, https://us-python.pkg.dev/colab-wheels/public/simple/\n",
            "Collecting python-docx\n",
            "  Downloading python-docx-0.8.11.tar.gz (5.6 MB)\n",
            "\u001b[K     |████████████████████████████████| 5.6 MB 8.8 MB/s \n",
            "\u001b[?25hRequirement already satisfied: lxml>=2.3.2 in /usr/local/lib/python3.7/dist-packages (from python-docx) (4.9.1)\n",
            "Building wheels for collected packages: python-docx\n",
            "  Building wheel for python-docx (setup.py) ... \u001b[?25l\u001b[?25hdone\n",
            "  Created wheel for python-docx: filename=python_docx-0.8.11-py3-none-any.whl size=184507 sha256=4612b7578f781a63c627efac81cd9b52e8c95b03768b2d3a7584d23f5ed40565\n",
            "  Stored in directory: /root/.cache/pip/wheels/f6/6f/b9/d798122a8b55b74ad30b5f52b01482169b445fbb84a11797a6\n",
            "Successfully built python-docx\n",
            "Installing collected packages: python-docx\n",
            "Successfully installed python-docx-0.8.11\n"
          ]
        }
      ],
      "source": [
        "!pip install python-docx\n",
        "\n",
        "#!pip install pandas\n",
        "#!pip install openpyxl\n",
        "#!pip install numpy"
      ]
    },
    {
      "cell_type": "code",
      "source": [
        "from docx import Document\n",
        "from datetime import datetime\n",
        "import pandas as pd\n",
        "import openpyxl \n",
        "import numpy as np"
      ],
      "metadata": {
        "id": "iW7wZNeUnN0z"
      },
      "execution_count": null,
      "outputs": []
    },
    {
      "cell_type": "code",
      "source": [
        "tabela = pd.read_excel(\"Informações_01.xlsx\")\n",
        "\n",
        "for linha in tabela.index:\n",
        "\n",
        "  certificado = Document(\"Certificado_01.docx\")\n",
        "\n",
        "  nome_aluno = tabela.loc[linha, \"nome_aluno\"]\n",
        "  nome_curso = tabela.loc[linha, \"nome_curso\"]\n",
        "  nome_profissional = tabela.loc[linha, \"nome_profissional\"]\n",
        "  hora_aula = tabela.loc[linha, \"hora_aula\"]\n",
        "  empresa_resp = tabela.loc[linha, \"empresa_resp\"]\n",
        "  responsavel = tabela.loc[linha, \"responsavel\"]\n",
        "\n",
        "  referencias = {\n",
        "      \"nome_aluno\": nome_aluno,\n",
        "      \"nome_curso\": nome_curso,\n",
        "      \"nome_profissional\": nome_profissional,\n",
        "      \"hora_aula\": hora_aula,\n",
        "      \"empresa_resp\": empresa_resp,\n",
        "      \"responsavel\" : responsavel,\n",
        "      \"DD\": str(datetime.now().day),\n",
        "      \"MM\": str(datetime.now().month),\n",
        "      \"AAAA\": str(datetime.now().year)\n",
        "  }\n",
        "\n",
        "\n",
        "  for paragrafo in certificado.paragraphs: \n",
        "    for codigo in referencias:\n",
        "      valor = referencias[codigo]\n",
        "      paragrafo.text = paragrafo.text.replace(codigo, str(valor))\n",
        "\n",
        "  certificado.save(f\"Certificado - {nome_aluno}.docx\")"
      ],
      "metadata": {
        "id": "l-IuB3Jwn8sL"
      },
      "execution_count": null,
      "outputs": []
    },
    {
      "cell_type": "code",
      "source": [
        ""
      ],
      "metadata": {
        "id": "xV_uzeYrq4-d"
      },
      "execution_count": null,
      "outputs": []
    }
  ]
}